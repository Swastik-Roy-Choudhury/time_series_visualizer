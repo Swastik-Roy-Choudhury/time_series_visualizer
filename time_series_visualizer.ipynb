{
  "nbformat": 4,
  "nbformat_minor": 0,
  "metadata": {
    "colab": {
      "provenance": []
    },
    "kernelspec": {
      "name": "python3",
      "display_name": "Python 3"
    },
    "language_info": {
      "name": "python"
    }
  },
  "cells": [
    {
      "cell_type": "code",
      "execution_count": 1,
      "metadata": {
        "id": "E_G1mbxP-3Gt"
      },
      "outputs": [],
      "source": [
        "import pandas as pd\n",
        "import numpy as np\n",
        "\n",
        "# Define the date range\n",
        "date_range = pd.date_range(start='2016-05-01', end='2019-12-31')\n",
        "\n",
        "# Generate random page views, ensuring they are reasonable (e.g., between 100 and 5000)\n",
        "np.random.seed(0)  # For reproducibility\n",
        "page_views = np.random.randint(100, 5000, size=len(date_range))\n",
        "\n",
        "# Create a DataFrame\n",
        "df_random = pd.DataFrame({'date': date_range, 'value': page_views})\n",
        "\n",
        "# Save to CSV\n",
        "df_random.to_csv('fcc-forum-pageviews.csv', index=False)\n"
      ]
    },
    {
      "cell_type": "code",
      "source": [
        "import pandas as pd\n",
        "import matplotlib.pyplot as plt\n",
        "import seaborn as sns\n",
        "\n",
        "# Import the data\n",
        "df = pd.read_csv('fcc-forum-pageviews.csv', parse_dates=['date'], index_col='date')\n",
        "\n",
        "# Clean the data by filtering out days with page views in the top 2.5% and bottom 2.5% of the dataset\n",
        "df = df[(df['value'] >= df['value'].quantile(0.025)) & (df['value'] <= df['value'].quantile(0.975))]\n",
        "\n",
        "# Function to draw a line plot\n",
        "def draw_line_plot():\n",
        "    # Draw line plot\n",
        "    fig, ax = plt.subplots(figsize=(15, 5))\n",
        "    ax.plot(df.index, df['value'], color='red', linewidth=1)\n",
        "    ax.set_title('Daily freeCodeCamp Forum Page Views 5/2016-12/2019')\n",
        "    ax.set_xlabel('Date')\n",
        "    ax.set_ylabel('Page Views')\n",
        "\n",
        "    # Save image and return fig\n",
        "    fig.savefig('line_plot.png')\n",
        "    return fig\n",
        "\n",
        "# Function to draw a bar plot\n",
        "def draw_bar_plot():\n",
        "    # Copy and modify data for monthly bar plot\n",
        "    df_bar = df.copy()\n",
        "    # Create a new column for year and month\n",
        "    df_bar['year'] = df_bar.index.year\n",
        "    df_bar['month'] = df_bar.index.month\n",
        "\n",
        "    # Group by year and month, and calculate the average page views\n",
        "    df_bar = df_bar.groupby([df_bar['year'], df_bar['month']])['value'].mean().unstack()\n",
        "\n",
        "    # Draw bar plot\n",
        "    fig = df_bar.plot(kind='bar', figsize=(15, 8), legend=True).figure\n",
        "    plt.xlabel('Years')\n",
        "    plt.ylabel('Average Page Views')\n",
        "    plt.title('Monthly Average Page Views for Each Year')\n",
        "    plt.legend(title='Months', labels=['January', 'February', 'March', 'April', 'May', 'June', 'July', 'August', 'September', 'October', 'November', 'December'])\n",
        "\n",
        "    # Save image and return fig\n",
        "    fig.savefig('bar_plot.png')\n",
        "    return fig\n",
        "\n",
        "# Function to draw box plots\n",
        "def draw_box_plot():\n",
        "    # Prepare data for box plots\n",
        "    df_box = df.copy()\n",
        "    df_box.reset_index(inplace=True)\n",
        "    # Create 'year' and 'month' columns\n",
        "    df_box['year'] = [d.year for d in df_box['date']]\n",
        "    df_box['month'] = [d.strftime('%b') for d in df_box['date']]\n",
        "\n",
        "    # Sort the dataframe by month order\n",
        "    months = [\"Jan\", \"Feb\", \"Mar\", \"Apr\", \"May\", \"Jun\", \"Jul\", \"Aug\", \"Sep\", \"Oct\", \"Nov\", \"Dec\"]\n",
        "    df_box['month'] = pd.Categorical(df_box['month'], categories=months, ordered=True)\n",
        "\n",
        "    # Draw box plots (using Seaborn)\n",
        "    fig, axes = plt.subplots(1, 2, figsize=(15, 5))\n",
        "\n",
        "    # Year-wise Box Plot\n",
        "    sns.boxplot(x='year', y='value', data=df_box, ax=axes[0])\n",
        "    axes[0].set_title('Year-wise Box Plot (Trend)')\n",
        "    axes[0].set_xlabel('Year')\n",
        "    axes[0].set_ylabel('Page Views')\n",
        "\n",
        "    # Month-wise Box Plot\n",
        "    sns.boxplot(x='month', y='value', data=df_box, ax=axes[1])\n",
        "    axes[1].set_title('Month-wise Box Plot (Seasonality)')\n",
        "    axes[1].set_xlabel('Month')\n",
        "    axes[1].set_ylabel('Page Views')\n",
        "\n",
        "    # Save image and return fig\n",
        "    fig.savefig('box_plot.png')\n",
        "    return fig\n"
      ],
      "metadata": {
        "id": "_STl3ENq--Rd"
      },
      "execution_count": 4,
      "outputs": []
    }
  ]
}